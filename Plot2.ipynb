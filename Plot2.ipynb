{
 "cells": [
  {
   "cell_type": "code",
   "execution_count": 6,
   "metadata": {},
   "outputs": [
    {
     "data": {
      "text/html": [
       "<div>\n",
       "<style>\n",
       "    .dataframe thead tr:only-child th {\n",
       "        text-align: right;\n",
       "    }\n",
       "\n",
       "    .dataframe thead th {\n",
       "        text-align: left;\n",
       "    }\n",
       "\n",
       "    .dataframe tbody tr th {\n",
       "        vertical-align: top;\n",
       "    }\n",
       "</style>\n",
       "<table border=\"1\" class=\"dataframe\">\n",
       "  <thead>\n",
       "    <tr style=\"text-align: right;\">\n",
       "      <th></th>\n",
       "      <th>Country</th>\n",
       "      <th>Both sexes</th>\n",
       "      <th>Value</th>\n",
       "    </tr>\n",
       "  </thead>\n",
       "  <tbody>\n",
       "    <tr>\n",
       "      <th>0</th>\n",
       "      <td>Afghanistan</td>\n",
       "      <td>60.5</td>\n",
       "      <td>55.3</td>\n",
       "    </tr>\n",
       "    <tr>\n",
       "      <th>1</th>\n",
       "      <td>Albania</td>\n",
       "      <td>77.8</td>\n",
       "      <td>95.1</td>\n",
       "    </tr>\n",
       "    <tr>\n",
       "      <th>2</th>\n",
       "      <td>Algeria</td>\n",
       "      <td>75.6</td>\n",
       "      <td>83.6</td>\n",
       "    </tr>\n",
       "    <tr>\n",
       "      <th>3</th>\n",
       "      <td>Angola</td>\n",
       "      <td>52.4</td>\n",
       "      <td>49.0</td>\n",
       "    </tr>\n",
       "    <tr>\n",
       "      <th>4</th>\n",
       "      <td>Antigua and Barbuda</td>\n",
       "      <td>76.4</td>\n",
       "      <td>97.9</td>\n",
       "    </tr>\n",
       "  </tbody>\n",
       "</table>\n",
       "</div>"
      ],
      "text/plain": [
       "               Country  Both sexes  Value\n",
       "0          Afghanistan        60.5   55.3\n",
       "1              Albania        77.8   95.1\n",
       "2              Algeria        75.6   83.6\n",
       "3               Angola        52.4   49.0\n",
       "4  Antigua and Barbuda        76.4   97.9"
      ]
     },
     "execution_count": 6,
     "metadata": {},
     "output_type": "execute_result"
    }
   ],
   "source": [
    "#!/usr/bin/env python3\n",
    "# -*- coding: utf-8 -*-\n",
    "\"\"\"\n",
    "Created on Sat Feb ,3 2018\n",
    "\n",
    "@author: JQ\n",
    "\"\"\"\n",
    "\n",
    "#############################################\n",
    "import pandas as pd\n",
    "import os\n",
    "import matplotlib.pyplot as plt\n",
    "import numpy as np\n",
    "\n",
    "# set directory\n",
    "os.chdir('/Users/test2/Downloads')\n",
    "\n",
    "# import potable water data\n",
    "potable = pd.read_csv('UNdata_Export_PercPotableWater.csv')\n",
    "\n",
    "# process potable:\n",
    "df_potable = potable.drop(['Value Footnotes'], axis = 1)\n",
    "df_potable = df_potable.pivot(index='Year', columns='Country or Area', values='Value')\n",
    "df_potable['medianPotable'] = df_potable.median(axis=1)\n",
    "df_potable = df_potable.reset_index()\n",
    "\n",
    "# process the life expectancy\n",
    "lifeExp = pd.read_csv('WHO_lifeExpectancy.csv', skiprows=1)\n",
    "\n",
    "# simplify and just keep the first three columns, so can use the combined life expectancy at birth\n",
    "lifeExp = lifeExp[['Country', 'Year', 'Both sexes']]\n",
    "\n",
    "# now collect the 2015 data, which is the latest in the WHO data\n",
    "potable2015 = potable[potable['Year'] == 2015]\n",
    "life2015 = lifeExp[lifeExp['Year'] == 2015]\n",
    "\n",
    "# merge dataframes\n",
    "df_2015 = pd.merge(left = life2015[['Country', 'Both sexes']], right = potable2015[['Value', 'Country or Area']], how = 'inner', left_on = 'Country', right_on = 'Country or Area')\n",
    "df_2015 = df_2015.drop(['Country or Area'], axis=1)\n",
    "\n",
    "df_2015.head()"
   ]
  },
  {
   "cell_type": "code",
   "execution_count": 7,
   "metadata": {},
   "outputs": [
    {
     "data": {
      "image/png": "[encoded data removed]",
      "text/plain": [
       "<matplotlib.figure.Figure at 0x110b8ef98>"
      ]
     },
     "metadata": {},
     "output_type": "display_data"
    }
   ],
   "source": [
    "# linear fit\n",
    "from scipy import stats\n",
    "\n",
    "# select the data for each variable\n",
    "x = pd.to_numeric(df_2015[\"Both sexes\"])\n",
    "y = pd.to_numeric(df_2015[\"Value\"])\n",
    "\n",
    "# create mask to hide the nan values in the Value column (% pop with access to potable water)\n",
    "mask = ~np.isnan(x) & ~np.isnan(y)\n",
    "\n",
    "# run linear fit\n",
    "slope, intercept, r_value, p_value, std_err = stats.linregress(x[mask],y[mask])\n",
    "line = slope*x+intercept\n",
    "\n",
    "# plot scatterplot and fitted line\n",
    "fig = plt.figure()\n",
    "plt.plot(x, y, 'o', x, line)\n",
    "plt.xlabel(\"Life expectancy at birth (years)\")\n",
    "plt.ylabel('% of Population with access to potable water')\n",
    "plt.title('Linear relationship between potable water and life expectancy')\n",
    "plt.show()"
   ]
  },
  {
   "cell_type": "code",
   "execution_count": 8,
   "metadata": {},
   "outputs": [
    {
     "name": "stdout",
     "output_type": "stream",
     "text": [
      "0.77397872863\n"
     ]
    }
   ],
   "source": [
    "print(r_value)\n",
    "# a respectable r-squared value"
   ]
  },
  {
   "cell_type": "code",
   "execution_count": null,
   "metadata": {
    "collapsed": true
   },
   "outputs": [],
   "source": []
  }
 ],
 "metadata": {
  "kernelspec": {
   "display_name": "Python 3",
   "language": "python",
   "name": "python3"
  },
  "language_info": {
   "codemirror_mode": {
    "name": "ipython",
    "version": 3
   },
   "file_extension": ".py",
   "mimetype": "text/x-python",
   "name": "python",
   "nbconvert_exporter": "python",
   "pygments_lexer": "ipython3",
   "version": "3.6.3"
  }
 },
 "nbformat": 4,
 "nbformat_minor": 2
}
